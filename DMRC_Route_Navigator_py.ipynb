{
  "nbformat": 4,
  "nbformat_minor": 0,
  "metadata": {
    "colab": {
      "provenance": []
    },
    "kernelspec": {
      "name": "python3",
      "display_name": "Python 3"
    },
    "language_info": {
      "name": "python"
    }
  },
  "cells": [
    {
      "cell_type": "code",
      "source": [
        "# Create delhi_metro.json in Colab\n",
        "metro_json = {\n",
        "  \"Blue-Main Line\": [\n",
        "    \"Dwarka Sector 21\", \"Dwarka Sector 8\", \"Dwarka Sector 9\", \"Dwarka Sector 10\",\"Dwarka Sector 11\", \"Dwarka Sector 12\", \"Dwarka Sector 13\",\n",
        "    \"Dwarka Sector 14\",\"Dwarka\", \"Dwarka Mor\", \"Nawada\", \"Uttam Nagar West\", \"Uttam Nagar East\", \"Janakpuri West\",\"Janakpuri East\",\n",
        "    \"Tilak Nagar\",\"Subhash Nagar\",\"Tagore Garden\",\"Rajouri Garden\",\"Ramesh Nagar\",\"Moti Nagar\",\"Kirti Nagar\",\"Shadipur\",\"Patel Nagar\",\n",
        "    \"Rajendra Place\",\"Karol Bagh\", \"Jhandewalan\",\"Ramakrishna Ashram Marg\",\"Rajiv Chowk\", \"Barakhamba Road\",\"Mandi House\", \"Supreme Court\",\n",
        "    \"Indraprastha\", \"Yamuna Bank\",\"Akshardham\",\"Mayur Vihar-1\",\"Mayur Vihar Extension\",\"New Ashok Nagar\", \"Noida Sector 15\",\"Noida Sector 16\",\n",
        "    \"Noida Sector 18\", \"Botanical Garden\",\"Golf Course\", \"Noida City Centre\",\"Sector-34 Noida\",\"Sector-52 Noida\",\"Sector-61 Noida\",\n",
        "    \"Sector-59 Noida\",\"Sector-62 Noida\",\"Noida Electronic City\"\n",
        "  ],\n",
        "  \"Green-Kirti Nagar Line\": [\n",
        "    \"Kirti Nagar\", \"Satguru Ram Singh Marg\", \"Ashok Park Main\", \"Punjabi Bagh\", \"Punjabi Bagh West\", \"Shivaji Park\", \"Madipur\",\n",
        "    \"Paschim Vihar East\", \"Paschim Vihar West\", \"Peeragarhi\", \"Udyog Nagar\", \"Maharaja Surajmal Stadium\", \"Nangloi\", \"Nangloi Railway Station\",\n",
        "    \"Rajdhani Park\", \"Mundka\", \"Mundka Industrial Area(MIA)\", \"Ghevra Metro Station\", \"Tikri Kalan\", \"Tikri Border\",\"Pandit Shree Ram Sharma\",\n",
        "    \"Bahadurgarh City\",\"Brig. Hoshiar Singh\"\n",
        "    ],\n",
        "  \"Green-Inderlok Line\": [\n",
        "    \"Inderlok\",\"Ashok Park Main\", \"Punjabi Bagh\", \"Punjabi Bagh West\", \"Shivaji Park\", \"Madipur\",\n",
        "    \"Paschim Vihar East\", \"Paschim Vihar West\", \"Peeragarhi\", \"Udyog Nagar\", \"Maharaja Surajmal Stadium\", \"Nangloi\", \"Nangloi Railway Station\",\n",
        "    \"Rajdhani Park\", \"Mundka\", \"Mundka Industrial Area(MIA)\", \"Ghevra Metro Station\", \"Tikri Kalan\", \"Tikri Border\",\"Pandit Shree Ram Sharma\",\n",
        "    \"Bahadurgarh City\",\"Brig. Hoshiar Singh\"\n",
        "  ],\n",
        "  \"Blue-Vaishali Line\": [\n",
        "    \"Dwarka Sector 21\", \"Dwarka Sector 8\", \"Dwarka Sector 9\", \"Dwarka Sector 10\",\"Dwarka Sector 11\", \"Dwarka Sector 12\", \"Dwarka Sector 13\",\n",
        "    \"Dwarka Sector 14\",\"Dwarka\", \"Dwarka Mor\", \"Nawada\", \"Uttam Nagar West\", \"Uttam Nagar East\", \"Janakpuri West\",\"Janakpuri East\",\n",
        "    \"Tilak Nagar\",\"Subhash Nagar\",\"Tagore Garden\",\"Rajouri Garden\",\"Ramesh Nagar\",\"Moti Nagar\",\"Kirti Nagar\",\"Shadipur\",\"Patel Nagar\",\n",
        "    \"Rajendra Place\",\"Karol Bagh\", \"Jhandewalan\",\"Ramakrishna Ashram Marg\",\"Rajiv Chowk\", \"Barakhamba Road\",\"Mandi House\", \"Supreme Court\",\n",
        "    \"Indraprastha\",\"Yamuna Bank\",\"Laxmi Nagar\",\"Nirman Vihar\",\"Preet Vihar\",\"Karkarduma\",\"Anand Vihar ISBT\",\"Kaushambi\",\"Vaishali\"\n",
        "  ],\n",
        "  \"Yellow Line\": [\n",
        "    \"Samaypur Badli\", \"Rohini Sector 18,19\", \"Haiderpur Badli Mor\", \"Jahangirpuri\",\"Adarsh Nagar\",\"Azadpur\",\"Model Town\",\n",
        "    \"Guru Tegh Bahadur Nagar\",\"Vishwavidyalaya\",\"Vidhan Sabha\",\"Civil Lines\", \"Kashmere Gate\", \"Chandni Chowk\",\"Chawri Bazar\", \"New Delhi\",\n",
        "    \"Rajiv Chowk\", \"Central Secretariat\", \"INA\",\"AIIMS\", \"Green Park\", \"Hauz Khas\", \"Malviya Nagar\", \"Saket\", \"Qutab Minar\",\n",
        "    \"Chhatarpur\", \"Sultanpur\", \"Ghitorni\", \"Arjan Garh\", \"Guru Dronacharya\",\"Sikandarpur\", \"MG Road\", \"IFFCO Chowk\", \"HUDA City Centre\"\n",
        "  ],\n",
        "  \"Red Line\": [\n",
        "    \"Rithala\", \"Rohini West\", \"Rohini East\", \"Pitampura\", \"Kohat Enclave\",\"Netaji Subhash Place\", \"Keshav Puram\", \"Kanhaiya Nagar\", \"Inderlok\",\n",
        "    \"Shastri Nagar\",\"Pratap Nagar\", \"Pul Bangash\", \"Tis Hazari\", \"Kashmere Gate\", \"Shastri Park\",\"Seelampur\", \"Welcome\", \"Shahdara\",\n",
        "    \"Mansarovar Park\", \"Jhilmil\", \"Dilshad Garden\",\"Shaheed Nagar\",\"Raj Bagh\", \"Major Mohit Sharma Rajendra Nagar\", \"Shyam Park\",\n",
        "    \"Mohan Nagar\",\"Arthala\",\"Hindon River\",\"Shaheed Sthal(New Bus Adda)\"\n",
        "  ],\n",
        "  \"Violet Line\": [\n",
        "      \"Kashmere Gate\",\"Lal Quila\",\"Jama Masjid\",\"Delhi Gate\",\"ITO\",\"Kashmere\",\"Mandi House\",\"Janpath\",\"Central Secretariat\",\"Khan Market\",\n",
        "      \"JLN Stadium\",\"Jangpura\",\"Lajpat Nagar\",\"Moolchand\",\"Kailash Colony\",\"Nehru Place\",\"Kalkaji Mandir\",\"Govindpuri\",\"Harkesh Nagar Okhla\",\n",
        "      \"Jasola-Appolo\",\"Sarita Vihar\",\"Mohan Estate\",\"Tughlakabad Station\",\"Badarpur Border\",\"Sarai\",\"NHPC Chowk\",\"Mewala Maharajpur\",\"Sector-28\",\n",
        "      \"Badkal Mor\",\"Old Faridabad\",\"Neelam Chowk Ajronda\",\"Bata Chowk\",\"Escorts Mujesar\",\"Sant Surdas (SIHI)\",\"Raja Nahar Singh (Ballabhgarh)\"\n",
        "  ],\n",
        "  \"Majenta Line\": [\n",
        "      \"Krishna Park Extension\",\"Janakpuri West\",\"Dabri Mor-Janakpuri South\",\"Dashrathpuri\",\"Palam\",\"Sadar Bazar Cantonment\",\"Terminal 1-IGI Airport\",\n",
        "      \"Shankar Vihar\",\"Vasant Vihar\",\"Munirka\",\"R.K.Puram\",\"IIT\",\"Hauz Khas\",\"Panchsheel Park\",\"Chirag Delhi\",\"Greater Kailash\",\"Nehru Enclave\",\n",
        "      \"Kalkaji Mandir\",\"Okhla NSIC\",\"Sukhdev Vihar\",\"Jamia Millia Islamia\",\"Okhla Vihar\",\"Jasola Vihar Shaheen Bagh\",\"Kalindi Kunj\",\n",
        "      \"Okhla Bird Sanctuary\",\"Botanical Garden\"\n",
        "  ],\n",
        "  \"Pink Line\": [\n",
        "      \"Majlis Park\",\"Azadpur\",\"Shalimar Bagh\",\"Netaji Subhash Place\",\"Shakurpur\",\"Punjabi Bagh West\",\"ESI-Basaidarapur\",\"Rajouri Garden\",\"Mayapuri\",\n",
        "      \"Naraina Vihar\",\"Delhi Cantt.\",\"Durgabai Deshmukh South Campus\",\"Sir M.Vishweshwaraiah Moti Bagh\",\"Bhikaji Cama Place\",\"Sarojini Nagar\",\n",
        "      \"Dilli Haat-INA\",\"South Extension\",\"Lajpat Nagar\",\"Vinobapuri\",\"Ashram\",\"Sarai Kale Khan-Nizamuddin\",\"Mayur Vihar-1\",\"Mayur Vihar Pocket-1\",\n",
        "      \"Trilokpuri-Sanjay Lake\",\"East Vinod Nagar-Mayur Vihar-2\",\"Mandawali-West Vinod Nagar\",\"I.P.Extension\",\"Anand Vihar ISBT\",\"Karkarduma\",\n",
        "      \"Karkarduma Court\",\"Krishna Nagar\",\"East Azad Nagar\",\"Welcome\",\"Jafrabad\",\"Maujpur-Babarpur\",\"Gokulpuri\",\"Johri Enclave\",\"Shiv Vihar\"\n",
        "  ]\n",
        "}\n",
        "\n",
        "import json\n",
        "with open(\"delhi_metro.json\", \"w\") as f:\n",
        "    json.dump(metro_json, f)"
      ],
      "metadata": {
        "id": "v9oDBf6L8Wcn"
      },
      "execution_count": null,
      "outputs": []
    },
    {
      "cell_type": "code",
      "source": [
        "DISPLAY_LINE_NAME = {\n",
        "    \"Blue-Main Line\": \"Blue Line\",\n",
        "    \"Blue-Vaishali Line\": \"Blue Line\",\n",
        "    \"Green-Kirti Nagar Line\": \"Green Line\",\n",
        "    \"Green-Inderlok Line\": \"Green Line\",\n",
        "    # add others if needed\n",
        "}"
      ],
      "metadata": {
        "id": "-XhANNB-6XkU"
      },
      "execution_count": null,
      "outputs": []
    },
    {
      "cell_type": "code",
      "source": [
        "import json\n",
        "def load_metro_data(filepath):\n",
        "    with open(filepath, \"r\") as f:\n",
        "        return json.load(f)"
      ],
      "metadata": {
        "id": "aaahNZvRxKTS"
      },
      "execution_count": null,
      "outputs": []
    },
    {
      "cell_type": "code",
      "source": [
        "def create_station_lookup(metro_data):\n",
        "    lookup = {}\n",
        "    for line in metro_data.values():\n",
        "        for station in line:\n",
        "            lookup[station.lower()] = station\n",
        "    return lookup"
      ],
      "metadata": {
        "id": "9U1WARusxny5"
      },
      "execution_count": null,
      "outputs": []
    },
    {
      "cell_type": "code",
      "source": [
        "def get_direction(start, end, line_stations):\n",
        "    if start not in line_stations or end not in line_stations:\n",
        "        return \"Unknown\"\n",
        "\n",
        "    start_idx = line_stations.index(start)\n",
        "    end_idx = line_stations.index(end)\n",
        "\n",
        "    if start_idx < end_idx:\n",
        "        return line_stations[-1]  # Forward direction\n",
        "    else:\n",
        "        return line_stations[0]   # Reverse direction"
      ],
      "metadata": {
        "id": "03tU6oNBzZ6r"
      },
      "execution_count": null,
      "outputs": []
    },
    {
      "cell_type": "code",
      "source": [
        "from collections import defaultdict\n",
        "\n",
        "def build_graph(metro_data):\n",
        "    graph = defaultdict(list)\n",
        "    station_lines = defaultdict(set)\n",
        "\n",
        "    for line, stations in metro_data.items():\n",
        "        for i in range(len(stations) - 1):\n",
        "            s1, s2 = stations[i], stations[i + 1]\n",
        "            graph[s1].append(s2)\n",
        "            graph[s2].append(s1)\n",
        "            station_lines[s1].add(line)\n",
        "            station_lines[s2].add(line)\n",
        "\n",
        "    return graph, station_lines"
      ],
      "metadata": {
        "id": "yyoqUVwoQrN7"
      },
      "execution_count": null,
      "outputs": []
    },
    {
      "cell_type": "code",
      "source": [
        "from collections import deque\n",
        "\n",
        "def bfs_shortest_path(graph, start, end):\n",
        "    visited = set()\n",
        "    queue = deque([[start]])\n",
        "\n",
        "    while queue:\n",
        "        path = queue.popleft()\n",
        "        station = path[-1]\n",
        "\n",
        "        if station == end:\n",
        "            return path\n",
        "\n",
        "        if station not in visited:\n",
        "            visited.add(station)\n",
        "            for neighbor in graph[station]:\n",
        "                new_path = list(path)\n",
        "                new_path.append(neighbor)\n",
        "                queue.append(new_path)\n",
        "\n",
        "    return []"
      ],
      "metadata": {
        "id": "EH2h1bvBQ444"
      },
      "execution_count": null,
      "outputs": []
    },
    {
      "cell_type": "code",
      "source": [
        "def get_display_line(line_name):\n",
        "    return DISPLAY_LINE_NAME.get(line_name, line_name)"
      ],
      "metadata": {
        "id": "Ivt3Yhe25DIk"
      },
      "execution_count": null,
      "outputs": []
    },
    {
      "cell_type": "code",
      "source": [
        "def annotate_route_with_direction(route, station_lines, metro_data):\n",
        "    # Step 1: Compute line used between every pair of stations\n",
        "    line_sequence = []\n",
        "    for i in range(len(route) - 1):\n",
        "        s1, s2 = route[i], route[i + 1]\n",
        "        common_lines = station_lines[s1] & station_lines[s2]\n",
        "        next_line = list(common_lines)[0] if common_lines else \"Unknown\"\n",
        "        line_sequence.append(next_line)\n",
        "\n",
        "    # Step 2: Annotate route with direction per segment\n",
        "    final_annotated = []\n",
        "    prev_line = None\n",
        "    segment_start_index = 0\n",
        "\n",
        "    for i in range(len(route)):\n",
        "        station = route[i]\n",
        "\n",
        "        if i == 0:\n",
        "            curr_line = line_sequence[0]\n",
        "            prev_line = curr_line\n",
        "            segment_start_index = 0  # starting segment\n",
        "            continue\n",
        "\n",
        "        if i == len(route) or (i < len(line_sequence) and line_sequence[i] != prev_line):\n",
        "            # Segment boundary: calculate direction for previous segment\n",
        "            segment_start = route[segment_start_index]\n",
        "            segment_end = route[i]\n",
        "            direction = get_direction(segment_start, segment_end, metro_data[prev_line])\n",
        "            action = f\"Start on {get_display_line(prev_line)} towards {direction}\" if segment_start_index == 0 else f\"Switch to {get_display_line(prev_line)} towards {direction}\"\n",
        "            final_annotated.append((segment_start, action))\n",
        "\n",
        "            # Append middle stations of segment\n",
        "            for j in range(segment_start_index + 1, i):\n",
        "                final_annotated.append((route[j], None))\n",
        "\n",
        "            segment_start_index = i\n",
        "            if i < len(line_sequence):\n",
        "                prev_line = line_sequence[i]\n",
        "\n",
        "    # Add final segment\n",
        "    segment_start = route[segment_start_index]\n",
        "    segment_end = route[-1]\n",
        "    direction = get_direction(segment_start, segment_end, metro_data[prev_line])\n",
        "    action = f\"Start on {get_display_line(prev_line)} towards {direction}\" if segment_start_index == 0 else f\"Switch to {get_display_line(prev_line)} towards {direction}\"\n",
        "    final_annotated.append((segment_start, action))\n",
        "\n",
        "    # Append middle stations of final segment\n",
        "    for j in range(segment_start_index + 1, len(route) - 1):\n",
        "        final_annotated.append((route[j], None))\n",
        "\n",
        "    # Add final station\n",
        "    final_annotated.append((route[-1], \"End\"))\n",
        "\n",
        "    return final_annotated"
      ],
      "metadata": {
        "id": "Q8F0AAVnQ6va"
      },
      "execution_count": null,
      "outputs": []
    },
    {
      "cell_type": "code",
      "source": [
        "def show_route_graph(start, end, metro_data):\n",
        "    graph, station_lines = build_graph(metro_data)\n",
        "    route = bfs_shortest_path(graph, start, end)\n",
        "\n",
        "    if not route:\n",
        "        print(\"❌ No path found.\")\n",
        "        return\n",
        "\n",
        "    annotated = annotate_route_with_direction(route, station_lines, metro_data)\n",
        "\n",
        "    for station, action in annotated:\n",
        "        if action:\n",
        "            print(f\"\\n🚉 {station} — {action}\")\n",
        "        else:\n",
        "            print(f\"→ {station}\")\n",
        "\n",
        "    print(f\"\\n🎯 Destination reached: {end}\")"
      ],
      "metadata": {
        "id": "pwuMqagmRCDO"
      },
      "execution_count": null,
      "outputs": []
    },
    {
      "cell_type": "code",
      "source": [
        "metro_data = load_metro_data(\"delhi_metro.json\")\n",
        "station_lookup = create_station_lookup(metro_data)\n",
        "\n",
        "start = station_lookup.get(input(\"Enter start: \").strip().lower())\n",
        "end = station_lookup.get(input(\"Enter end: \").strip().lower())\n",
        "\n",
        "if not start or not end:\n",
        "    print(\"Invalid station name.\")\n",
        "else:\n",
        "    show_route_graph(start, end, metro_data)"
      ],
      "metadata": {
        "id": "j_xsBSdl-fIl",
        "colab": {
          "base_uri": "https://localhost:8080/"
        },
        "outputId": "3011636b-697d-4700-8977-2ac68fe89908"
      },
      "execution_count": null,
      "outputs": [
        {
          "output_type": "stream",
          "name": "stdout",
          "text": [
            "Enter start: rithala\n",
            "Enter end: sarojini nagar\n",
            "\n",
            "🚉 Rithala — Start on Red Line towards Shaheed Sthal(New Bus Adda)\n",
            "→ Rohini West\n",
            "→ Rohini East\n",
            "→ Pitampura\n",
            "→ Kohat Enclave\n",
            "\n",
            "🚉 Netaji Subhash Place — Switch to Pink Line towards Shiv Vihar\n",
            "→ Shakurpur\n",
            "→ Punjabi Bagh West\n",
            "→ ESI-Basaidarapur\n",
            "→ Rajouri Garden\n",
            "→ Mayapuri\n",
            "→ Naraina Vihar\n",
            "→ Delhi Cantt.\n",
            "→ Durgabai Deshmukh South Campus\n",
            "→ Sir M.Vishweshwaraiah Moti Bagh\n",
            "→ Bhikaji Cama Place\n",
            "\n",
            "🚉 Sarojini Nagar — End\n",
            "\n",
            "🎯 Destination reached: Sarojini Nagar\n"
          ]
        }
      ]
    },
    {
      "cell_type": "markdown",
      "source": [
        "frontend"
      ],
      "metadata": {
        "id": "95uKUGIm73ZI"
      }
    }
  ]
}